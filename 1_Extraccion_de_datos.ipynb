{
  "nbformat": 4,
  "nbformat_minor": 0,
  "metadata": {
    "colab": {
      "provenance": [],
      "authorship_tag": "ABX9TyN7rzzGRc5+nD2SqID8FZUy",
      "include_colab_link": true
    },
    "kernelspec": {
      "name": "python3",
      "display_name": "Python 3"
    },
    "language_info": {
      "name": "python"
    }
  },
  "cells": [
    {
      "cell_type": "markdown",
      "metadata": {
        "id": "view-in-github",
        "colab_type": "text"
      },
      "source": [
        "<a href=\"https://colab.research.google.com/github/AlbertoOstorga/Hola-Mundo/blob/main/1_Extraccion_de_datos.ipynb\" target=\"_parent\"><img src=\"https://colab.research.google.com/assets/colab-badge.svg\" alt=\"Open In Colab\"/></a>"
      ]
    },
    {
      "cell_type": "code",
      "execution_count": 4,
      "metadata": {
        "id": "CmAgICH1L92j"
      },
      "outputs": [],
      "source": [
        "#Importamos librerías requeridas\n",
        "import pandas as pd\n",
        "import numpy as np\n",
        "import matplotlib.pyplot as plt\n",
        "import seaborn as sns\n",
        "import io"
      ]
    },
    {
      "cell_type": "code",
      "source": [
        "#Cargar archivo csv desde equipo\n",
        "from google.colab import files \n",
        "files.upload()"
      ],
      "metadata": {
        "id": "36a12yBMPDJY"
      },
      "execution_count": null,
      "outputs": []
    },
    {
      "cell_type": "code",
      "source": [
        "#Convertir a dataframe\n",
        "df= pd.read_csv(\"file.csv\")\n",
        "#df"
      ],
      "metadata": {
        "id": "D2JAmF_6RYs2"
      },
      "execution_count": 16,
      "outputs": []
    },
    {
      "cell_type": "code",
      "source": [
        "#Imprimir las primeras cinco filas\n",
        "df.head(5)"
      ],
      "metadata": {
        "id": "debKj3OrVrbu"
      },
      "execution_count": null,
      "outputs": []
    },
    {
      "cell_type": "markdown",
      "source": [
        "**FILTROS BÁSICOS PARA VARIABLES CUALITATIVAS**"
      ],
      "metadata": {
        "id": "hGuNaxgFUI1A"
      }
    },
    {
      "cell_type": "code",
      "source": [
        "#Filtro por objeto\n",
        "filtro1=df[df[\"Entidad_Federativa\"] == \"Baja California\"]\n",
        "filtro1"
      ],
      "metadata": {
        "id": "dcz6zZWfUMSf"
      },
      "execution_count": null,
      "outputs": []
    },
    {
      "cell_type": "code",
      "source": [
        "#Filtro por filas no consecutivas\n",
        "filtro2=df.iloc[[1000, 2000, 300],:] #Filas no consecutivas\n",
        "filtro2"
      ],
      "metadata": {
        "id": "GIv_2Zk8Vexv"
      },
      "execution_count": null,
      "outputs": []
    },
    {
      "cell_type": "code",
      "source": [
        "#Filtro por filas consecutivas\n",
        "filtro2_1=df.iloc[1000:2001,:] #Filas consecutivas\n",
        "filtro2_1"
      ],
      "metadata": {
        "id": "BXBBwySyWd8j"
      },
      "execution_count": null,
      "outputs": []
    },
    {
      "cell_type": "code",
      "source": [
        "#Filtro por columnas no consecutivas\n",
        "filtro3=df.iloc[:,[1,4,6]] #Columnas no consecutivas\n",
        "filtro3"
      ],
      "metadata": {
        "id": "v-PCUGIyXOVc"
      },
      "execution_count": null,
      "outputs": []
    },
    {
      "cell_type": "code",
      "source": [
        "#Filtro por columnas consecutivas\n",
        "filtro3_1=df.iloc[:,4:7] #Columnas consecutivas\n",
        "filtro3_1"
      ],
      "metadata": {
        "id": "xPp7GIEGXh6b"
      },
      "execution_count": null,
      "outputs": []
    },
    {
      "cell_type": "code",
      "source": [
        "#Filtro mezclado\n",
        "filtro_mix=df.iloc[[1000,2000,3000],1:2] #Filas no consecutivas - columnas consecutivas\n",
        "filtro_mix"
      ],
      "metadata": {
        "id": "qRAiNyLVYCpG"
      },
      "execution_count": null,
      "outputs": []
    },
    {
      "cell_type": "code",
      "source": [
        "#Filtro mezclado\n",
        "filtro_mix2=df.iloc[0:99,[1,2]] #Filas consecutivas - columnas no consecutivas\n",
        "filtro_mix2"
      ],
      "metadata": {
        "id": "61DoRyljY8ez"
      },
      "execution_count": null,
      "outputs": []
    },
    {
      "cell_type": "code",
      "source": [
        "#Filtro de filas vs columnas\n",
        "#Paso 1: Leemos el contenido del archivo\n",
        "from google.colab import files \n",
        "uploaded=files.upload()\n",
        "df= pd.read_csv(io.BytesIO(uploaded['file.csv']),index_col=2)"
      ],
      "metadata": {
        "id": "gnuph6RNZfs8"
      },
      "execution_count": null,
      "outputs": []
    },
    {
      "cell_type": "code",
      "source": [
        "#Paso 2: Aplicamos Filtro de filas vs columnas\n",
        "filtro4=df.loc[[\"Puebla\",\"Durango\"],[\"Poblacion_ocupada_en_la_industria_manufacturera\"]]\n",
        "filtro4"
      ],
      "metadata": {
        "id": "xH5sysTKaRx7"
      },
      "execution_count": null,
      "outputs": []
    },
    {
      "cell_type": "markdown",
      "source": [
        "**FILTROS BÁSICOS PARA VARIABLES CUANTITATIVAS**"
      ],
      "metadata": {
        "id": "rvTYBCl9dr5n"
      }
    },
    {
      "cell_type": "code",
      "source": [
        "#Filtro por comparacion\n",
        "filtro6=df[df[\"Periodo\"] >= 2006]\n",
        "filtro6"
      ],
      "metadata": {
        "colab": {
          "base_uri": "https://localhost:8080/",
          "height": 455
        },
        "id": "HGRgXr7ieW2b",
        "outputId": "0b85413e-5f1d-48b5-ec31-337f8ba86fcc"
      },
      "execution_count": 63,
      "outputs": [
        {
          "output_type": "execute_result",
          "data": {
            "text/plain": [
              "                    Periodo  Trimestre     Sexo  \\\n",
              "Entidad_Federativa                                \n",
              "Nacional               2006          1  Hombres   \n",
              "Nacional               2006          1  Mujeres   \n",
              "Aguascalientes         2006          1  Hombres   \n",
              "Aguascalientes         2006          1  Mujeres   \n",
              "Baja California        2006          1  Hombres   \n",
              "...                     ...        ...      ...   \n",
              "Veracruz               2022          1  Mujeres   \n",
              "Yucat n                2022          1  Hombres   \n",
              "Yucat n                2022          1  Mujeres   \n",
              "Zacatecas              2022          1  Hombres   \n",
              "Zacatecas              2022          1  Mujeres   \n",
              "\n",
              "                   Poblacion_ocupada_en_la_industria_manufacturera  \\\n",
              "Entidad_Federativa                                                   \n",
              "Nacional                                                   4377795   \n",
              "Nacional                                                   2741480   \n",
              "Aguascalientes                                               58341   \n",
              "Aguascalientes                                               25737   \n",
              "Baja California                                             156261   \n",
              "...                                                            ...   \n",
              "Veracruz                                                    107640   \n",
              "Yucat n                                                     101992   \n",
              "Yucat n                                                      82759   \n",
              "Zacatecas                                                    44105   \n",
              "Zacatecas                                                    39472   \n",
              "\n",
              "                   Poblaci n_ocupada  \\\n",
              "Entidad_Federativa                     \n",
              "Nacional                    26913995   \n",
              "Nacional                    15826941   \n",
              "Aguascalientes                256317   \n",
              "Aguascalientes                152027   \n",
              "Baja California               779609   \n",
              "...                              ...   \n",
              "Veracruz                     1190733   \n",
              "Yucat n                       691397   \n",
              "Yucat n                       478943   \n",
              "Zacatecas                     402326   \n",
              "Zacatecas                     255761   \n",
              "\n",
              "                   Tasa_de_ocupaci n_en_la_industria_manufacturera  \n",
              "Entidad_Federativa                                                  \n",
              "Nacional                                  16.265868370000000000000  \n",
              "Nacional                                  17.321603710000000000000  \n",
              "Aguascalientes                            22.761268270000000000000  \n",
              "Aguascalientes                            16.929229680000000000000  \n",
              "Baja California                           20.043508990000000000000  \n",
              "...                                                            ...  \n",
              "Veracruz                                  9.0398099320000000000000  \n",
              "Yucat n                                   14.751582670000000000000  \n",
              "Yucat n                                   17.279509250000000000000  \n",
              "Zacatecas                                 10.962503040000000000000  \n",
              "Zacatecas                                  15.43315830000000000000  \n",
              "\n",
              "[4290 rows x 6 columns]"
            ],
            "text/html": [
              "\n",
              "  <div id=\"df-b0b4a0ef-d13b-4906-a422-d39006c78880\">\n",
              "    <div class=\"colab-df-container\">\n",
              "      <div>\n",
              "<style scoped>\n",
              "    .dataframe tbody tr th:only-of-type {\n",
              "        vertical-align: middle;\n",
              "    }\n",
              "\n",
              "    .dataframe tbody tr th {\n",
              "        vertical-align: top;\n",
              "    }\n",
              "\n",
              "    .dataframe thead th {\n",
              "        text-align: right;\n",
              "    }\n",
              "</style>\n",
              "<table border=\"1\" class=\"dataframe\">\n",
              "  <thead>\n",
              "    <tr style=\"text-align: right;\">\n",
              "      <th></th>\n",
              "      <th>Periodo</th>\n",
              "      <th>Trimestre</th>\n",
              "      <th>Sexo</th>\n",
              "      <th>Poblacion_ocupada_en_la_industria_manufacturera</th>\n",
              "      <th>Poblaci n_ocupada</th>\n",
              "      <th>Tasa_de_ocupaci n_en_la_industria_manufacturera</th>\n",
              "    </tr>\n",
              "    <tr>\n",
              "      <th>Entidad_Federativa</th>\n",
              "      <th></th>\n",
              "      <th></th>\n",
              "      <th></th>\n",
              "      <th></th>\n",
              "      <th></th>\n",
              "      <th></th>\n",
              "    </tr>\n",
              "  </thead>\n",
              "  <tbody>\n",
              "    <tr>\n",
              "      <th>Nacional</th>\n",
              "      <td>2006</td>\n",
              "      <td>1</td>\n",
              "      <td>Hombres</td>\n",
              "      <td>4377795</td>\n",
              "      <td>26913995</td>\n",
              "      <td>16.265868370000000000000</td>\n",
              "    </tr>\n",
              "    <tr>\n",
              "      <th>Nacional</th>\n",
              "      <td>2006</td>\n",
              "      <td>1</td>\n",
              "      <td>Mujeres</td>\n",
              "      <td>2741480</td>\n",
              "      <td>15826941</td>\n",
              "      <td>17.321603710000000000000</td>\n",
              "    </tr>\n",
              "    <tr>\n",
              "      <th>Aguascalientes</th>\n",
              "      <td>2006</td>\n",
              "      <td>1</td>\n",
              "      <td>Hombres</td>\n",
              "      <td>58341</td>\n",
              "      <td>256317</td>\n",
              "      <td>22.761268270000000000000</td>\n",
              "    </tr>\n",
              "    <tr>\n",
              "      <th>Aguascalientes</th>\n",
              "      <td>2006</td>\n",
              "      <td>1</td>\n",
              "      <td>Mujeres</td>\n",
              "      <td>25737</td>\n",
              "      <td>152027</td>\n",
              "      <td>16.929229680000000000000</td>\n",
              "    </tr>\n",
              "    <tr>\n",
              "      <th>Baja California</th>\n",
              "      <td>2006</td>\n",
              "      <td>1</td>\n",
              "      <td>Hombres</td>\n",
              "      <td>156261</td>\n",
              "      <td>779609</td>\n",
              "      <td>20.043508990000000000000</td>\n",
              "    </tr>\n",
              "    <tr>\n",
              "      <th>...</th>\n",
              "      <td>...</td>\n",
              "      <td>...</td>\n",
              "      <td>...</td>\n",
              "      <td>...</td>\n",
              "      <td>...</td>\n",
              "      <td>...</td>\n",
              "    </tr>\n",
              "    <tr>\n",
              "      <th>Veracruz</th>\n",
              "      <td>2022</td>\n",
              "      <td>1</td>\n",
              "      <td>Mujeres</td>\n",
              "      <td>107640</td>\n",
              "      <td>1190733</td>\n",
              "      <td>9.0398099320000000000000</td>\n",
              "    </tr>\n",
              "    <tr>\n",
              "      <th>Yucat n</th>\n",
              "      <td>2022</td>\n",
              "      <td>1</td>\n",
              "      <td>Hombres</td>\n",
              "      <td>101992</td>\n",
              "      <td>691397</td>\n",
              "      <td>14.751582670000000000000</td>\n",
              "    </tr>\n",
              "    <tr>\n",
              "      <th>Yucat n</th>\n",
              "      <td>2022</td>\n",
              "      <td>1</td>\n",
              "      <td>Mujeres</td>\n",
              "      <td>82759</td>\n",
              "      <td>478943</td>\n",
              "      <td>17.279509250000000000000</td>\n",
              "    </tr>\n",
              "    <tr>\n",
              "      <th>Zacatecas</th>\n",
              "      <td>2022</td>\n",
              "      <td>1</td>\n",
              "      <td>Hombres</td>\n",
              "      <td>44105</td>\n",
              "      <td>402326</td>\n",
              "      <td>10.962503040000000000000</td>\n",
              "    </tr>\n",
              "    <tr>\n",
              "      <th>Zacatecas</th>\n",
              "      <td>2022</td>\n",
              "      <td>1</td>\n",
              "      <td>Mujeres</td>\n",
              "      <td>39472</td>\n",
              "      <td>255761</td>\n",
              "      <td>15.43315830000000000000</td>\n",
              "    </tr>\n",
              "  </tbody>\n",
              "</table>\n",
              "<p>4290 rows × 6 columns</p>\n",
              "</div>\n",
              "      <button class=\"colab-df-convert\" onclick=\"convertToInteractive('df-b0b4a0ef-d13b-4906-a422-d39006c78880')\"\n",
              "              title=\"Convert this dataframe to an interactive table.\"\n",
              "              style=\"display:none;\">\n",
              "        \n",
              "  <svg xmlns=\"http://www.w3.org/2000/svg\" height=\"24px\"viewBox=\"0 0 24 24\"\n",
              "       width=\"24px\">\n",
              "    <path d=\"M0 0h24v24H0V0z\" fill=\"none\"/>\n",
              "    <path d=\"M18.56 5.44l.94 2.06.94-2.06 2.06-.94-2.06-.94-.94-2.06-.94 2.06-2.06.94zm-11 1L8.5 8.5l.94-2.06 2.06-.94-2.06-.94L8.5 2.5l-.94 2.06-2.06.94zm10 10l.94 2.06.94-2.06 2.06-.94-2.06-.94-.94-2.06-.94 2.06-2.06.94z\"/><path d=\"M17.41 7.96l-1.37-1.37c-.4-.4-.92-.59-1.43-.59-.52 0-1.04.2-1.43.59L10.3 9.45l-7.72 7.72c-.78.78-.78 2.05 0 2.83L4 21.41c.39.39.9.59 1.41.59.51 0 1.02-.2 1.41-.59l7.78-7.78 2.81-2.81c.8-.78.8-2.07 0-2.86zM5.41 20L4 18.59l7.72-7.72 1.47 1.35L5.41 20z\"/>\n",
              "  </svg>\n",
              "      </button>\n",
              "      \n",
              "  <style>\n",
              "    .colab-df-container {\n",
              "      display:flex;\n",
              "      flex-wrap:wrap;\n",
              "      gap: 12px;\n",
              "    }\n",
              "\n",
              "    .colab-df-convert {\n",
              "      background-color: #E8F0FE;\n",
              "      border: none;\n",
              "      border-radius: 50%;\n",
              "      cursor: pointer;\n",
              "      display: none;\n",
              "      fill: #1967D2;\n",
              "      height: 32px;\n",
              "      padding: 0 0 0 0;\n",
              "      width: 32px;\n",
              "    }\n",
              "\n",
              "    .colab-df-convert:hover {\n",
              "      background-color: #E2EBFA;\n",
              "      box-shadow: 0px 1px 2px rgba(60, 64, 67, 0.3), 0px 1px 3px 1px rgba(60, 64, 67, 0.15);\n",
              "      fill: #174EA6;\n",
              "    }\n",
              "\n",
              "    [theme=dark] .colab-df-convert {\n",
              "      background-color: #3B4455;\n",
              "      fill: #D2E3FC;\n",
              "    }\n",
              "\n",
              "    [theme=dark] .colab-df-convert:hover {\n",
              "      background-color: #434B5C;\n",
              "      box-shadow: 0px 1px 3px 1px rgba(0, 0, 0, 0.15);\n",
              "      filter: drop-shadow(0px 1px 2px rgba(0, 0, 0, 0.3));\n",
              "      fill: #FFFFFF;\n",
              "    }\n",
              "  </style>\n",
              "\n",
              "      <script>\n",
              "        const buttonEl =\n",
              "          document.querySelector('#df-b0b4a0ef-d13b-4906-a422-d39006c78880 button.colab-df-convert');\n",
              "        buttonEl.style.display =\n",
              "          google.colab.kernel.accessAllowed ? 'block' : 'none';\n",
              "\n",
              "        async function convertToInteractive(key) {\n",
              "          const element = document.querySelector('#df-b0b4a0ef-d13b-4906-a422-d39006c78880');\n",
              "          const dataTable =\n",
              "            await google.colab.kernel.invokeFunction('convertToInteractive',\n",
              "                                                     [key], {});\n",
              "          if (!dataTable) return;\n",
              "\n",
              "          const docLinkHtml = 'Like what you see? Visit the ' +\n",
              "            '<a target=\"_blank\" href=https://colab.research.google.com/notebooks/data_table.ipynb>data table notebook</a>'\n",
              "            + ' to learn more about interactive tables.';\n",
              "          element.innerHTML = '';\n",
              "          dataTable['output_type'] = 'display_data';\n",
              "          await google.colab.output.renderOutput(dataTable, element);\n",
              "          const docLink = document.createElement('div');\n",
              "          docLink.innerHTML = docLinkHtml;\n",
              "          element.appendChild(docLink);\n",
              "        }\n",
              "      </script>\n",
              "    </div>\n",
              "  </div>\n",
              "  "
            ]
          },
          "metadata": {},
          "execution_count": 63
        }
      ]
    }
  ]
}