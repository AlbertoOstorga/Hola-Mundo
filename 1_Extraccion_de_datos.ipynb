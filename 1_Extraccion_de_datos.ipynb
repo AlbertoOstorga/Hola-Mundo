{
  "nbformat": 4,
  "nbformat_minor": 0,
  "metadata": {
    "colab": {
      "provenance": [],
      "authorship_tag": "ABX9TyPuL3gKdjRGhDQBTQmMGI85",
      "include_colab_link": true
    },
    "kernelspec": {
      "name": "python3",
      "display_name": "Python 3"
    },
    "language_info": {
      "name": "python"
    }
  },
  "cells": [
    {
      "cell_type": "markdown",
      "metadata": {
        "id": "view-in-github",
        "colab_type": "text"
      },
      "source": [
        "<a href=\"https://colab.research.google.com/github/AlbertoOstorga/Hola-Mundo/blob/main/1_Extraccion_de_datos.ipynb\" target=\"_parent\"><img src=\"https://colab.research.google.com/assets/colab-badge.svg\" alt=\"Open In Colab\"/></a>"
      ]
    },
    {
      "cell_type": "code",
      "execution_count": null,
      "metadata": {
        "id": "CmAgICH1L92j"
      },
      "outputs": [],
      "source": [
        "#Importamos librerías requeridas\n",
        "import pandas as pd\n",
        "import numpy as np\n",
        "import matplotlib.pyplot as plt\n",
        "import seaborn as sns\n",
        "import io"
      ]
    },
    {
      "cell_type": "code",
      "source": [
        "#Cargar archivo csv desde equipo\n",
        "from google.colab import files \n",
        "files.upload()"
      ],
      "metadata": {
        "id": "36a12yBMPDJY"
      },
      "execution_count": null,
      "outputs": []
    },
    {
      "cell_type": "code",
      "source": [
        "#Convertir a dataframe\n",
        "df= pd.read_csv(\"file.csv\")\n",
        "#df"
      ],
      "metadata": {
        "id": "D2JAmF_6RYs2"
      },
      "execution_count": null,
      "outputs": []
    },
    {
      "cell_type": "code",
      "source": [
        "#Imprimir las primeras cinco filas\n",
        "df.head(5)"
      ],
      "metadata": {
        "id": "debKj3OrVrbu"
      },
      "execution_count": null,
      "outputs": []
    },
    {
      "cell_type": "markdown",
      "source": [
        "**FILTROS BÁSICOS PARA VARIABLES CUALITATIVAS**"
      ],
      "metadata": {
        "id": "hGuNaxgFUI1A"
      }
    },
    {
      "cell_type": "code",
      "source": [
        "#Filtro por objeto\n",
        "filtro1=df[df[\"Entidad_Federativa\"] == \"Baja California\"]\n",
        "filtro1"
      ],
      "metadata": {
        "id": "dcz6zZWfUMSf"
      },
      "execution_count": null,
      "outputs": []
    },
    {
      "cell_type": "code",
      "source": [
        "#Filtro por filas no consecutivas\n",
        "filtro2=df.iloc[[1000, 2000, 300],:] #Filas no consecutivas\n",
        "filtro2"
      ],
      "metadata": {
        "id": "GIv_2Zk8Vexv"
      },
      "execution_count": null,
      "outputs": []
    },
    {
      "cell_type": "code",
      "source": [
        "#Filtro por filas consecutivas\n",
        "filtro2_1=df.iloc[1000:2001,:] #Filas consecutivas\n",
        "filtro2_1"
      ],
      "metadata": {
        "id": "BXBBwySyWd8j"
      },
      "execution_count": null,
      "outputs": []
    },
    {
      "cell_type": "code",
      "source": [
        "#Filtro por columnas no consecutivas\n",
        "filtro3=df.iloc[:,[1,4,6]] #Columnas no consecutivas\n",
        "filtro3"
      ],
      "metadata": {
        "id": "v-PCUGIyXOVc"
      },
      "execution_count": null,
      "outputs": []
    },
    {
      "cell_type": "code",
      "source": [
        "#Filtro por columnas consecutivas\n",
        "filtro3_1=df.iloc[:,4:7] #Columnas consecutivas\n",
        "filtro3_1"
      ],
      "metadata": {
        "id": "xPp7GIEGXh6b"
      },
      "execution_count": null,
      "outputs": []
    },
    {
      "cell_type": "code",
      "source": [
        "#Filtro mezclado\n",
        "filtro_mix=df.iloc[[1000,2000,3000],1:2] #Filas no consecutivas - columnas consecutivas\n",
        "filtro_mix"
      ],
      "metadata": {
        "id": "qRAiNyLVYCpG"
      },
      "execution_count": null,
      "outputs": []
    },
    {
      "cell_type": "code",
      "source": [
        "#Filtro mezclado\n",
        "filtro_mix2=df.iloc[0:99,[1,2]] #Filas consecutivas - columnas no consecutivas\n",
        "filtro_mix2"
      ],
      "metadata": {
        "id": "61DoRyljY8ez"
      },
      "execution_count": null,
      "outputs": []
    },
    {
      "cell_type": "code",
      "source": [
        "#Filtro de filas vs columnas\n",
        "#Paso 1: Leemos el contenido del archivo\n",
        "from google.colab import files \n",
        "uploaded=files.upload()\n",
        "df= pd.read_csv(io.BytesIO(uploaded['file.csv']),index_col=2)"
      ],
      "metadata": {
        "id": "gnuph6RNZfs8"
      },
      "execution_count": null,
      "outputs": []
    },
    {
      "cell_type": "code",
      "source": [
        "#Paso 2: Aplicamos Filtro de filas vs columnas\n",
        "filtro4=df.loc[[\"Puebla\",\"Durango\"],[\"Poblacion_ocupada_en_la_industria_manufacturera\"]]\n",
        "filtro4"
      ],
      "metadata": {
        "id": "xH5sysTKaRx7"
      },
      "execution_count": null,
      "outputs": []
    },
    {
      "cell_type": "markdown",
      "source": [
        "**FILTROS BÁSICOS PARA VARIABLES CUANTITATIVAS**"
      ],
      "metadata": {
        "id": "rvTYBCl9dr5n"
      }
    },
    {
      "cell_type": "code",
      "source": [
        "#Filtro por comparacion\n",
        "filtro6=df[df[\"Periodo\"] >= 2006]\n",
        "filtro6"
      ],
      "metadata": {
        "id": "HGRgXr7ieW2b"
      },
      "execution_count": null,
      "outputs": []
    },
    {
      "cell_type": "markdown",
      "source": [
        "**FILTROS BÁSICOS CON CONECTORES LÓGICOS**"
      ],
      "metadata": {
        "id": "27s0cET2h1QW"
      }
    },
    {
      "cell_type": "code",
      "source": [
        "#Filtro AND\n",
        "filtro7=df[(df[\"Periodo\"] > 2015) & (df[\"Sexo\"] == 'Hombres')]\n",
        "filtro7"
      ],
      "metadata": {
        "id": "Sr5W3XvWh7uV"
      },
      "execution_count": null,
      "outputs": []
    }
  ]
}